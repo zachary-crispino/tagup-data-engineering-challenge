{
 "cells": [
  {
   "cell_type": "markdown",
   "metadata": {},
   "source": [
    "\n",
    "## The Exercise\n",
    "\n",
    "ExampleCo, Inc is gathering several types of data for its fleet of very expensive machines. They collect four kinds of time series data for each machine in their fleet. When a machine is operating in normal mode the data behaves in a fairly predictable way, but with a moderate amount of noise. Before a machine fails it will ramp into faulty mode, during which the data appears visibly quite different. Finally, when a machine fails it enters a third, and distinctly different, failed mode where all signals are very close to zero. There are four common sensors associated with each machine. There is also static data associated with each machine.\n",
    "\n",
    "ExampleCo stores their data in SQL tables. While SQL is useful for storing and querying data, it is less useful as input for machine learning pipelines. At Tagup, our ML Pipelines expect data as an n-dimensional array, and a common first step is converting a customer's data from SQL to array form.\n",
    "\n",
    "You can download the data here: [exampleco_data](https://drive.google.com/file/d/1GejVDBoFFVNprqMeTGnXu8hrYLj4aS4q/view?usp=sharing)\n",
    "\n",
    "Your objectives are:\n",
    "\n",
    "- Map the equipment data from SQL into arrays (or a single array). To keep things simple, you can ignore the static data to start. Be sure to describe your design choices and the array schema you chose.\n",
    "- Apply filters to clean the data. For example, there are some clear outliers in the data due to communication errors from the sensor equipment. These bad measurements have no bearing on the ability for Tagup to provide insight from the data, and a good place to start is to find a way to filter them out.\n",
    "\n",
    "Bonus points:\n",
    "- Provide summary statistics for the ingressed data, including various statistical moments, and any other relevant descriptive statistics.\n",
    "- Integrate the static data into your design.  \n",
    "- As part of a data processing pipeline, upload your arrays to AWS S3.\n",
    "- Demonstrate the efficacy of your approach using visualizations. You must also include a simple explanation of these figures and why your approach is effective, written in language that non-technical executives could understand.\n",
    "    \n",
    "A few notes to help:\n",
    "1. Feel free to use any libraries you like. At Tagup, we use [xarray](http://xarray.pydata.org/en/stable/) for multidimensional arrays, but you can use whatever methods you prefer. Your final results should be shared via GitHub, including a README file providing documentation (ideally of both your code and your findings in the data). There is a jupyter notebook included to help you get started, but do not feel obligated to submit your solution in notebook form.\n",
    "    \n",
    "2. There are no constraints on the techniques you bring to bear, we are curious to see how you think and what sort of resources you have in your toolbox.\n",
    "    \n",
    "3. Don't hesitate to reach out to challenges@tagup.io with any questions!\n",
    "    \n",
    "\n",
    "## Tips\n",
    "- We value syntax, structure and variable naming, code documentation, and testability.\n",
    "- Try to design and implement your solution as you would do for real production code. Show us how you create clean and maintainable code that produces the target result. Build something that we'd be happy to contribute to.\n",
    "- Feel free to add more features: we're curious about what you can think of. We'd expect the same if you worked with us!\n"
   ]
  },
  {
   "cell_type": "markdown",
   "metadata": {},
   "source": [
    "# Here is some code to help you get started\n",
    "Feel free to modify or remove any of this."
   ]
  },
  {
   "cell_type": "code",
   "execution_count": 352,
   "metadata": {},
   "outputs": [],
   "source": [
    "import numpy as np\n",
    "import pandas as pd\n",
    "import xarray as xr\n",
    "import seaborn as sns\n",
    "import matplotlib.pyplot as plt\n",
    "from functools import reduce\n",
    "from sqlalchemy import create_engine, inspect"
   ]
  },
  {
   "cell_type": "code",
   "execution_count": 353,
   "metadata": {},
   "outputs": [],
   "source": [
    "# Load db\n",
    "engine = create_engine('sqlite:///exampleco_db.db', echo=False)"
   ]
  },
  {
   "cell_type": "code",
   "execution_count": 354,
   "metadata": {
    "collapsed": true
   },
   "outputs": [
    {
     "data": {
      "text/plain": [
       "['feat_0', 'feat_1', 'feat_2', 'feat_3', 'static_data']"
      ]
     },
     "execution_count": 354,
     "metadata": {},
     "output_type": "execute_result"
    }
   ],
   "source": [
    "# View tables\n",
    "inspector = inspect(engine)\n",
    "inspector.get_table_names()"
   ]
  },
  {
   "cell_type": "code",
   "execution_count": 355,
   "metadata": {},
   "outputs": [],
   "source": [
    "n=4 #number of feat tables"
   ]
  },
  {
   "cell_type": "code",
   "execution_count": 356,
   "metadata": {},
   "outputs": [],
   "source": [
    "#load tables into list of pandas dataframes for each table\n",
    "dfs=[]\n",
    "for i in range(n):\n",
    "    cols=list(engine.execute(f\"SELECT * FROM feat_{i}\").keys())\n",
    "    cols[-1]+=f\"_{i}\" #rename value to show which tool it was from\n",
    "    query = f\"SELECT * FROM feat_{i};\"\n",
    "    dfs.append(pd.DataFrame(engine.execute(query).fetchall(),columns=cols))"
   ]
  },
  {
   "cell_type": "code",
   "execution_count": 357,
   "metadata": {},
   "outputs": [],
   "source": [
    "dfp=[] #array of pivoted values\n",
    "for i in range(n):\n",
    "    df=dfs[i].pivot(index=\"timestamp\", columns=\"machine\", values=f\"value_{i}\")\n",
    "    \n",
    "    #sort in order of machines\n",
    "    new_order=sorted(df.columns, key=lambda x: (int(x.split('_')[1])))\n",
    "    df=df[new_order]\n",
    "    \n",
    "    dfp.append(df)"
   ]
  },
  {
   "cell_type": "markdown",
   "metadata": {},
   "source": [
    "Now we have 4 dataframes that each have the different values for all the machine measurements for each timestamp. This is useful because if we want all the measurements from a machine from a certain sensor we can just choose the corresponding column in the corresponding table. For now we represent these as pandas dataframes-easy to manipulate and clean data, and we can later turn into other types of arrays easily."
   ]
  },
  {
   "cell_type": "markdown",
   "metadata": {},
   "source": [
    "Below is an example of a plot of the values of a machine over time (the x axis is the number entry which is increasing in time).\n",
    "We can clearly see the three states: up to about 1500 the machine is operating in the normal range, from 1500-1700 it is in the faulty range, \n",
    "and afterwards it has failed. We can also clearly see the outliers, the values which have above absolute value of about 200 or greater."
   ]
  },
  {
   "cell_type": "code",
   "execution_count": 358,
   "metadata": {
    "scrolled": true
   },
   "outputs": [
    {
     "data": {
      "text/plain": [
       "<AxesSubplot:>"
      ]
     },
     "execution_count": 358,
     "metadata": {},
     "output_type": "execute_result"
    },
    {
     "data": {
      "image/png": "[encoded data removed]",
      "text/plain": [
       "<Figure size 432x288 with 1 Axes>"
      ]
     },
     "metadata": {
      "needs_background": "light"
     },
     "output_type": "display_data"
    }
   ],
   "source": [
    "(dfp[0].set_index(pd.Index(range(3000))))['machine_1'].plot()"
   ]
  },
  {
   "cell_type": "markdown",
   "metadata": {},
   "source": [
    "Similarly, here is an example boxplot. The standard deviation is small, caused by the fact that that after the machine fails it stays very close to zero. However, it is easy to see the grouping of outliers to the far left and right. The more intermediate values a little less than 100 are from working/faulty mode. (This graph for now is mostly just for visualizing outliers--quartiles not super meaningful because of different stages of the machine)"
   ]
  },
  {
   "cell_type": "code",
   "execution_count": 359,
   "metadata": {},
   "outputs": [
    {
     "data": {
      "text/plain": [
       "<AxesSubplot:xlabel='machine_15'>"
      ]
     },
     "execution_count": 359,
     "metadata": {},
     "output_type": "execute_result"
    },
    {
     "data": {
      "image/png": "[encoded data removed]",
      "text/plain": [
       "<Figure size 432x288 with 1 Axes>"
      ]
     },
     "metadata": {
      "needs_background": "light"
     },
     "output_type": "display_data"
    }
   ],
   "source": [
    "sns.boxplot(x=dfp[0]['machine_15'])"
   ]
  },
  {
   "cell_type": "markdown",
   "metadata": {},
   "source": [
    "After observing a lot of the plots, these outliers are a common error and it doesn't seem like the machines naturally hit values this high. We now have a couple options. We could delete the rows that include these outliers, but this involves deleting a lot of rows and losing a lot of data. We can replace the outlier with NaNs, but we don't know if machine learning model will work with these values. I decided to instead use linear interpolation, which seems like it will work reasonably with our data because there aren't any crazy patterns, and since our data is evenly spaced in time a missing time is evenly between two other times.\n",
    "\n",
    "We will replaces values with an absolute value greater than 200 (these seem to be where our outliers lie)."
   ]
  },
  {
   "cell_type": "code",
   "execution_count": 360,
   "metadata": {},
   "outputs": [],
   "source": [
    "dfo=[] #array of data frames with outliers removed\n",
    "for i in range(n):\n",
    "    df=dfp[i]\n",
    "    df=df[abs(df)<200] #replaces values greater than 200 with NaN\n",
    "    df=df.interpolate(method='linear')\n",
    "    df=df.fillna(method='bfill') #if first or last value, might be a nan still-then just copy 2nd or 2nd to last measurement\n",
    "    df=df.fillna(method='ffill')\n",
    "    dfo.append(df)"
   ]
  },
  {
   "cell_type": "markdown",
   "metadata": {},
   "source": [
    "Below is the graph from above but with these large outliers interpolated--much cleaner, and we can see the three stages!"
   ]
  },
  {
   "cell_type": "code",
   "execution_count": 361,
   "metadata": {
    "scrolled": true
   },
   "outputs": [
    {
     "data": {
      "text/plain": [
       "<AxesSubplot:>"
      ]
     },
     "execution_count": 361,
     "metadata": {},
     "output_type": "execute_result"
    },
    {
     "data": {
      "image/png": "[encoded data removed]",
      "text/plain": [
       "<Figure size 432x288 with 1 Axes>"
      ]
     },
     "metadata": {
      "needs_background": "light"
     },
     "output_type": "display_data"
    }
   ],
   "source": [
    "l=dfo[0].shape[0]\n",
    "dfo[0].set_index(pd.Index(range(l)))['machine_1'].plot()"
   ]
  },
  {
   "cell_type": "markdown",
   "metadata": {},
   "source": [
    "Next we will pull some interesting data from this. For example, when does each machine fail? \n",
    "We can estimate this by finding the first time where the next couple values for a machine are close to 0."
   ]
  },
  {
   "cell_type": "code",
   "execution_count": 362,
   "metadata": {},
   "outputs": [],
   "source": [
    "k=5 #number of consecutive small values considered needed for machine to have failed\n",
    "tol=.1 #number when value is below is considered small, candidate for having failed\n",
    "fails=[] #datetime of failure\n",
    "fails_num=[] #num row of failure\n",
    "for i in range(n):\n",
    "    f=[]\n",
    "    f_num=[]\n",
    "    df=dfo[i]\n",
    "    l=df.shape[0]\n",
    "    for j in range(df.shape[1]):\n",
    "        for m in range(l-k):\n",
    "            if np.all(np.abs(df.iloc[m:m+k,j])<tol):\n",
    "                f.append(df.index[m])\n",
    "                f_num.append(m)\n",
    "                break\n",
    "    fails.append(f)\n",
    "    fails_num.append(f_num)\n",
    "#fails[i][j] is estimate of time machine j failed according to sensor i"
   ]
  },
  {
   "cell_type": "markdown",
   "metadata": {},
   "source": [
    "Another interesting value could be mean and variance of machine/sensor before it fails, found below"
   ]
  },
  {
   "cell_type": "code",
   "execution_count": 363,
   "metadata": {},
   "outputs": [],
   "source": [
    "mean=[]\n",
    "var=[]\n",
    "for i in range(n):\n",
    "    m=[]\n",
    "    v=[]\n",
    "    df=dfo[i]\n",
    "    l=df.shape[0]\n",
    "    for j in range(df.shape[1]):\n",
    "        pre_fail_rows=df.iloc[:fails_num[i][j],j]\n",
    "        m.append(np.mean(pre_fail_rows))\n",
    "        v.append(np.var(pre_fail_rows))\n",
    "    mean.append(m)\n",
    "    var.append(v)\n",
    "#mean/var[i][j] is mean/var of sensor i, machine j"
   ]
  },
  {
   "cell_type": "markdown",
   "metadata": {},
   "source": [
    "So we have approximate failure timestamps and some descriptive statistics for the machines before they fail. With more time, we could find and look for patterns in these failure times. Also the variance we have represents both normal and faulty modes, and it is different for the two, so really it would be better to find these descriptive statistics for each mode the machine is in.\n",
    "\n",
    "Here's an idea for some further work we could do to estimate when a machine is in the faulty mode. First throw out all the data after the calculated failure time. Next choose some number of consecutive data points (let's say maybe 20) and split the data up into len(data)/20 different groups which each consist of 20 consecutive data points. Next find the max absolute value of the data for each of these groups. From analyzing the graphs it seems like this max stays pretty similar while the machine is operating regularly. Now find when this max starts to significantly increase (and continues to increase) and that will be around when the faulty mode starts.\n",
    "\n",
    "For now will just examine static data."
   ]
  },
  {
   "cell_type": "code",
   "execution_count": 364,
   "metadata": {
    "collapsed": true
   },
   "outputs": [
    {
     "data": {
      "text/html": [
       "<div>\n",
       "<style scoped>\n",
       "    .dataframe tbody tr th:only-of-type {\n",
       "        vertical-align: middle;\n",
       "    }\n",
       "\n",
       "    .dataframe tbody tr th {\n",
       "        vertical-align: top;\n",
       "    }\n",
       "\n",
       "    .dataframe thead th {\n",
       "        text-align: right;\n",
       "    }\n",
       "</style>\n",
       "<table border=\"1\" class=\"dataframe\">\n",
       "  <thead>\n",
       "    <tr style=\"text-align: right;\">\n",
       "      <th></th>\n",
       "      <th>machine_id</th>\n",
       "      <th>install_date</th>\n",
       "      <th>model</th>\n",
       "      <th>room</th>\n",
       "    </tr>\n",
       "  </thead>\n",
       "  <tbody>\n",
       "    <tr>\n",
       "      <th>0</th>\n",
       "      <td>machine_0</td>\n",
       "      <td>2019-01-01</td>\n",
       "      <td>Model A</td>\n",
       "      <td>Room 123</td>\n",
       "    </tr>\n",
       "    <tr>\n",
       "      <th>1</th>\n",
       "      <td>machine_1</td>\n",
       "      <td>2019-01-01</td>\n",
       "      <td>Model A</td>\n",
       "      <td>Room 123</td>\n",
       "    </tr>\n",
       "    <tr>\n",
       "      <th>2</th>\n",
       "      <td>machine_2</td>\n",
       "      <td>2019-01-01</td>\n",
       "      <td>Model A</td>\n",
       "      <td>Room 123</td>\n",
       "    </tr>\n",
       "    <tr>\n",
       "      <th>3</th>\n",
       "      <td>machine_3</td>\n",
       "      <td>2019-01-01</td>\n",
       "      <td>Model A</td>\n",
       "      <td>Room 123</td>\n",
       "    </tr>\n",
       "    <tr>\n",
       "      <th>4</th>\n",
       "      <td>machine_4</td>\n",
       "      <td>2019-01-01</td>\n",
       "      <td>Model A</td>\n",
       "      <td>Room 123</td>\n",
       "    </tr>\n",
       "    <tr>\n",
       "      <th>5</th>\n",
       "      <td>machine_5</td>\n",
       "      <td>2019-01-01</td>\n",
       "      <td>Model A</td>\n",
       "      <td>Room 123</td>\n",
       "    </tr>\n",
       "    <tr>\n",
       "      <th>6</th>\n",
       "      <td>machine_6</td>\n",
       "      <td>2019-01-01</td>\n",
       "      <td>Model A</td>\n",
       "      <td>Room 123</td>\n",
       "    </tr>\n",
       "    <tr>\n",
       "      <th>7</th>\n",
       "      <td>machine_7</td>\n",
       "      <td>2019-01-01</td>\n",
       "      <td>Model A</td>\n",
       "      <td>Room 123</td>\n",
       "    </tr>\n",
       "    <tr>\n",
       "      <th>8</th>\n",
       "      <td>machine_8</td>\n",
       "      <td>2019-01-01</td>\n",
       "      <td>Model A</td>\n",
       "      <td>Room 123</td>\n",
       "    </tr>\n",
       "    <tr>\n",
       "      <th>9</th>\n",
       "      <td>machine_9</td>\n",
       "      <td>2019-01-01</td>\n",
       "      <td>Model A</td>\n",
       "      <td>Room 123</td>\n",
       "    </tr>\n",
       "    <tr>\n",
       "      <th>10</th>\n",
       "      <td>machine_10</td>\n",
       "      <td>2019-01-01</td>\n",
       "      <td>Model A</td>\n",
       "      <td>Room 123</td>\n",
       "    </tr>\n",
       "    <tr>\n",
       "      <th>11</th>\n",
       "      <td>machine_11</td>\n",
       "      <td>2019-01-01</td>\n",
       "      <td>Model A</td>\n",
       "      <td>Room 123</td>\n",
       "    </tr>\n",
       "    <tr>\n",
       "      <th>12</th>\n",
       "      <td>machine_12</td>\n",
       "      <td>2019-01-01</td>\n",
       "      <td>Model A</td>\n",
       "      <td>Room 123</td>\n",
       "    </tr>\n",
       "    <tr>\n",
       "      <th>13</th>\n",
       "      <td>machine_13</td>\n",
       "      <td>2019-01-01</td>\n",
       "      <td>Model A</td>\n",
       "      <td>Room 123</td>\n",
       "    </tr>\n",
       "    <tr>\n",
       "      <th>14</th>\n",
       "      <td>machine_14</td>\n",
       "      <td>2019-01-01</td>\n",
       "      <td>Model B</td>\n",
       "      <td>Room 456</td>\n",
       "    </tr>\n",
       "    <tr>\n",
       "      <th>15</th>\n",
       "      <td>machine_15</td>\n",
       "      <td>2019-01-01</td>\n",
       "      <td>Model B</td>\n",
       "      <td>Room 456</td>\n",
       "    </tr>\n",
       "    <tr>\n",
       "      <th>16</th>\n",
       "      <td>machine_16</td>\n",
       "      <td>2019-01-01</td>\n",
       "      <td>Model B</td>\n",
       "      <td>Room 456</td>\n",
       "    </tr>\n",
       "    <tr>\n",
       "      <th>17</th>\n",
       "      <td>machine_17</td>\n",
       "      <td>2019-01-01</td>\n",
       "      <td>Model B</td>\n",
       "      <td>Room 456</td>\n",
       "    </tr>\n",
       "    <tr>\n",
       "      <th>18</th>\n",
       "      <td>machine_18</td>\n",
       "      <td>2019-01-01</td>\n",
       "      <td>Model B</td>\n",
       "      <td>Room 456</td>\n",
       "    </tr>\n",
       "    <tr>\n",
       "      <th>19</th>\n",
       "      <td>machine_19</td>\n",
       "      <td>2019-01-01</td>\n",
       "      <td>Model B</td>\n",
       "      <td>Room 456</td>\n",
       "    </tr>\n",
       "  </tbody>\n",
       "</table>\n",
       "</div>"
      ],
      "text/plain": [
       "    machine_id install_date    model      room\n",
       "0    machine_0   2019-01-01  Model A  Room 123\n",
       "1    machine_1   2019-01-01  Model A  Room 123\n",
       "2    machine_2   2019-01-01  Model A  Room 123\n",
       "3    machine_3   2019-01-01  Model A  Room 123\n",
       "4    machine_4   2019-01-01  Model A  Room 123\n",
       "5    machine_5   2019-01-01  Model A  Room 123\n",
       "6    machine_6   2019-01-01  Model A  Room 123\n",
       "7    machine_7   2019-01-01  Model A  Room 123\n",
       "8    machine_8   2019-01-01  Model A  Room 123\n",
       "9    machine_9   2019-01-01  Model A  Room 123\n",
       "10  machine_10   2019-01-01  Model A  Room 123\n",
       "11  machine_11   2019-01-01  Model A  Room 123\n",
       "12  machine_12   2019-01-01  Model A  Room 123\n",
       "13  machine_13   2019-01-01  Model A  Room 123\n",
       "14  machine_14   2019-01-01  Model B  Room 456\n",
       "15  machine_15   2019-01-01  Model B  Room 456\n",
       "16  machine_16   2019-01-01  Model B  Room 456\n",
       "17  machine_17   2019-01-01  Model B  Room 456\n",
       "18  machine_18   2019-01-01  Model B  Room 456\n",
       "19  machine_19   2019-01-01  Model B  Room 456"
      ]
     },
     "execution_count": 364,
     "metadata": {},
     "output_type": "execute_result"
    }
   ],
   "source": [
    "cols=list(engine.execute(f\"SELECT * FROM static_data\").keys())\n",
    "query = f\"SELECT * FROM static_data;\"\n",
    "df_s=pd.DataFrame(engine.execute(query).fetchall(),columns=cols)"
   ]
  },
  {
   "cell_type": "markdown",
   "metadata": {},
   "source": [
    "From observing static data, we see that machines 0 through 13 are model A, 14 through 19 are model B. If we are inputting this data into a machine learning algorithm we might want to do separate models for each type of machine"
   ]
  },
  {
   "cell_type": "code",
   "execution_count": 365,
   "metadata": {},
   "outputs": [],
   "source": [
    "dfa=[] #model a dataframes. df_a[i] has values for model A machines for sensor i\n",
    "dfb=[] #model b dataframes. df_b[i] has values for model B machines for sensor i\n",
    "for i in range(n):\n",
    "    df=dfo[i]\n",
    "    c1=df.columns[:14]\n",
    "    c2=df.columns[14:]\n",
    "    dfa.append(df[c1])\n",
    "    dfb.append(df[c2])"
   ]
  },
  {
   "cell_type": "markdown",
   "metadata": {},
   "source": [
    "We can easily turn these into xarrays if we wanted to"
   ]
  },
  {
   "cell_type": "code",
   "execution_count": 366,
   "metadata": {},
   "outputs": [],
   "source": [
    "xf=[] #final list of xarrays for all machines (1 for each sensor)\n",
    "xa=[] #final list of xarrays for model A machines\n",
    "xb=[] #final list of xarrays for model B machines\n",
    "for df in dfo:\n",
    "    xf.append(df.to_xarray())\n",
    "for df in dfa:\n",
    "    xa.append(df.to_xarray())\n",
    "for df in dfb:\n",
    "    xb.append(df.to_xarray())  "
   ]
  },
  {
   "cell_type": "code",
   "execution_count": 367,
   "metadata": {},
   "outputs": [],
   "source": [
    "for i in range(n):\n",
    "    dfo[i].to_csv(f'feat_{i}.csv')"
   ]
  }
 ],
 "metadata": {
  "interpreter": {
   "hash": "39ee16c09488673965437987a2869652385c44c089bebde15996833fbab8938b"
  },
  "kernelspec": {
   "display_name": "Python 3",
   "language": "python",
   "name": "python3"
  },
  "language_info": {
   "codemirror_mode": {
    "name": "ipython",
    "version": 3
   },
   "file_extension": ".py",
   "mimetype": "text/x-python",
   "name": "python",
   "nbconvert_exporter": "python",
   "pygments_lexer": "ipython3",
   "version": "3.8.5"
  }
 },
 "nbformat": 4,
 "nbformat_minor": 2
}
